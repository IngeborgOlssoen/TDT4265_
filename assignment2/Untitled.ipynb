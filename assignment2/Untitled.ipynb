{
 "cells": [
  {
   "cell_type": "code",
   "execution_count": 4,
   "id": "8b63eeac",
   "metadata": {},
   "outputs": [
    {
     "ename": "ValueError",
     "evalue": "operands could not be broadcast together with shapes (2,3) (3,3) ",
     "output_type": "error",
     "traceback": [
      "\u001b[0;31m---------------------------------------------------------------------------\u001b[0m",
      "\u001b[0;31mValueError\u001b[0m                                Traceback (most recent call last)",
      "Cell \u001b[0;32mIn[4], line 30\u001b[0m\n\u001b[1;32m     28\u001b[0m         image_section \u001b[38;5;241m=\u001b[39m padded_image[i:i\u001b[38;5;241m+\u001b[39m\u001b[38;5;241m3\u001b[39m, j:j\u001b[38;5;241m+\u001b[39m\u001b[38;5;241m3\u001b[39m]\n\u001b[1;32m     29\u001b[0m         \u001b[38;5;66;03m# Utfører konvolusjonen (elementvis multiplikasjon og sum)\u001b[39;00m\n\u001b[0;32m---> 30\u001b[0m         result_matrix[i, j] \u001b[38;5;241m=\u001b[39m np\u001b[38;5;241m.\u001b[39msum(image_section \u001b[38;5;241m*\u001b[39m sobel_kernel)\n\u001b[1;32m     32\u001b[0m \u001b[38;5;66;03m# Viser resultatmatrisen\u001b[39;00m\n\u001b[1;32m     33\u001b[0m result_matrix\n",
      "\u001b[0;31mValueError\u001b[0m: operands could not be broadcast together with shapes (2,3) (3,3) "
     ]
    }
   ],
   "source": [
    "# Gjenoppretter numpy og utfører konvolusjonen på den polstrede matrisen\n",
    "import numpy as np\n",
    "\n",
    "# Definerer bildet og Sobel-kjernen\n",
    "image = np.array([\n",
    "    [0, 0, 0, 0, 0],\n",
    "    [2, 1, 2, 3, 1],\n",
    "    [3, 9, 1, 1, 4],\n",
    "    [4, 5, 0, 7, 0],\n",
    "    [0, 0, 0, 0, 0]\n",
    "])\n",
    "sobel_kernel = np.array([\n",
    "    [-1, 0, 1],\n",
    "    [-2, 0, 2],\n",
    "    [-1, 0, 1]\n",
    "])\n",
    "\n",
    "# Legger til null-padding på sidene av bildet\n",
    "padded_image = np.pad(image, ((0, 0), (1, 1)), mode='constant', constant_values=0)\n",
    "\n",
    "# Initialiserer resultatmatrisen\n",
    "result_matrix = np.zeros_like(image)\n",
    "\n",
    "# Gjennomfører konvolusjonen ved å gli kjernen over bildet\n",
    "for i in range(image.shape[0]):  # Radene i bildet\n",
    "    for j in range(image.shape[1]):  # Kolonnene i bildet\n",
    "        # Utdrag av den relevante delen av det polstrede bildet\n",
    "        image_section = padded_image[i:i+3, j:j+3]\n",
    "        # Utfører konvolusjonen (elementvis multiplikasjon og sum)\n",
    "        result_matrix[i, j] = np.sum(image_section * sobel_kernel)\n",
    "\n",
    "# Viser resultatmatrisen\n",
    "result_matrix\n"
   ]
  },
  {
   "cell_type": "code",
   "execution_count": null,
   "id": "ae150acc",
   "metadata": {},
   "outputs": [],
   "source": []
  }
 ],
 "metadata": {
  "kernelspec": {
   "display_name": "Python 3 (ipykernel)",
   "language": "python",
   "name": "python3"
  },
  "language_info": {
   "codemirror_mode": {
    "name": "ipython",
    "version": 3
   },
   "file_extension": ".py",
   "mimetype": "text/x-python",
   "name": "python",
   "nbconvert_exporter": "python",
   "pygments_lexer": "ipython3",
   "version": "3.11.4"
  }
 },
 "nbformat": 4,
 "nbformat_minor": 5
}
